{
 "cells": [
  {
   "cell_type": "code",
   "execution_count": 7,
   "metadata": {},
   "outputs": [
    {
     "name": "stderr",
     "output_type": "stream",
     "text": [
      "2020-02-28 17:22:36,138 : INFO : collecting all words and their counts\n",
      "2020-02-28 17:22:36,139 : INFO : PROGRESS: at sentence #0, processed 0 words, keeping 0 word types\n",
      "2020-02-28 17:22:36,139 : INFO : collected 4 word types from a corpus of 6 raw words and 2 sentences\n",
      "2020-02-28 17:22:36,140 : INFO : Loading a fresh vocabulary\n",
      "2020-02-28 17:22:36,141 : INFO : effective_min_count=1 retains 4 unique words (100% of original 4, drops 0)\n",
      "2020-02-28 17:22:36,141 : INFO : effective_min_count=1 leaves 6 word corpus (100% of original 6, drops 0)\n",
      "2020-02-28 17:22:36,142 : INFO : deleting the raw counts dictionary of 4 items\n",
      "2020-02-28 17:22:36,143 : INFO : sample=0.001 downsamples 4 most-common words\n",
      "2020-02-28 17:22:36,143 : INFO : downsampling leaves estimated 0 word corpus (6.6% of prior 6)\n",
      "2020-02-28 17:22:36,144 : INFO : estimated required memory for 4 words and 100 dimensions: 5200 bytes\n",
      "2020-02-28 17:22:36,144 : INFO : resetting layer weights\n",
      "2020-02-28 17:22:36,145 : INFO : training model with 3 workers on 4 vocabulary and 100 features, using sg=0 hs=0 sample=0.001 negative=5 window=5\n",
      "2020-02-28 17:22:36,150 : INFO : worker thread finished; awaiting finish of 2 more threads\n",
      "2020-02-28 17:22:36,151 : INFO : worker thread finished; awaiting finish of 1 more threads\n",
      "2020-02-28 17:22:36,151 : INFO : worker thread finished; awaiting finish of 0 more threads\n",
      "2020-02-28 17:22:36,152 : INFO : EPOCH - 1 : training on 6 raw words (0 effective words) took 0.0s, 0 effective words/s\n",
      "2020-02-28 17:22:36,156 : INFO : worker thread finished; awaiting finish of 2 more threads\n",
      "2020-02-28 17:22:36,157 : INFO : worker thread finished; awaiting finish of 1 more threads\n",
      "2020-02-28 17:22:36,158 : INFO : worker thread finished; awaiting finish of 0 more threads\n",
      "2020-02-28 17:22:36,158 : INFO : EPOCH - 2 : training on 6 raw words (0 effective words) took 0.0s, 0 effective words/s\n",
      "2020-02-28 17:22:36,161 : INFO : worker thread finished; awaiting finish of 2 more threads\n",
      "2020-02-28 17:22:36,162 : INFO : worker thread finished; awaiting finish of 1 more threads\n",
      "2020-02-28 17:22:36,163 : INFO : worker thread finished; awaiting finish of 0 more threads\n",
      "2020-02-28 17:22:36,164 : INFO : EPOCH - 3 : training on 6 raw words (1 effective words) took 0.0s, 408 effective words/s\n",
      "2020-02-28 17:22:36,167 : INFO : worker thread finished; awaiting finish of 2 more threads\n",
      "2020-02-28 17:22:36,168 : INFO : worker thread finished; awaiting finish of 1 more threads\n",
      "2020-02-28 17:22:36,168 : INFO : worker thread finished; awaiting finish of 0 more threads\n",
      "2020-02-28 17:22:36,169 : INFO : EPOCH - 4 : training on 6 raw words (0 effective words) took 0.0s, 0 effective words/s\n",
      "2020-02-28 17:22:36,172 : INFO : worker thread finished; awaiting finish of 2 more threads\n",
      "2020-02-28 17:22:36,174 : INFO : worker thread finished; awaiting finish of 1 more threads\n",
      "2020-02-28 17:22:36,174 : INFO : worker thread finished; awaiting finish of 0 more threads\n",
      "2020-02-28 17:22:36,175 : INFO : EPOCH - 5 : training on 6 raw words (0 effective words) took 0.0s, 0 effective words/s\n",
      "2020-02-28 17:22:36,175 : INFO : training on a 30 raw words (1 effective words) took 0.0s, 34 effective words/s\n",
      "2020-02-28 17:22:36,176 : WARNING : under 10 jobs per worker: consider setting a smaller `batch_words' for smoother alpha decay\n"
     ]
    }
   ],
   "source": [
    "from gensim.models import Word2Vec\n",
    "sentences = [[\"Python\", \"深度学习\", \"机器学习\"], [\"NLP\", \"深度学习\", \"机器学习\"]]\n",
    "model = Word2Vec(sentences, min_count=1)"
   ]
  },
  {
   "cell_type": "code",
   "execution_count": null,
   "metadata": {},
   "outputs": [],
   "source": []
  },
  {
   "cell_type": "code",
   "execution_count": null,
   "metadata": {},
   "outputs": [],
   "source": []
  },
  {
   "cell_type": "code",
   "execution_count": 5,
   "metadata": {},
   "outputs": [
    {
     "name": "stderr",
     "output_type": "stream",
     "text": [
      "2020-02-28 17:15:22,844 : INFO : collecting all words and their counts\n",
      "2020-02-28 17:15:22,845 : INFO : PROGRESS: at sentence #0, processed 0 words, keeping 0 word types\n",
      "2020-02-28 17:15:22,848 : INFO : collected 1430 word types from a corpus of 3175 raw words and 1597 sentences\n",
      "2020-02-28 17:15:22,848 : INFO : Loading a fresh vocabulary\n",
      "2020-02-28 17:15:22,849 : INFO : effective_min_count=5 retains 25 unique words (1% of original 1430, drops 1405)\n",
      "2020-02-28 17:15:22,850 : INFO : effective_min_count=5 leaves 1752 word corpus (55% of original 3175, drops 1423)\n",
      "2020-02-28 17:15:22,851 : INFO : deleting the raw counts dictionary of 1430 items\n",
      "2020-02-28 17:15:22,852 : INFO : sample=0.001 downsamples 25 most-common words\n",
      "2020-02-28 17:15:22,852 : INFO : downsampling leaves estimated 184 word corpus (10.5% of prior 1752)\n",
      "2020-02-28 17:15:22,853 : INFO : estimated required memory for 25 words and 192 dimensions: 50900 bytes\n",
      "2020-02-28 17:15:22,853 : INFO : resetting layer weights\n",
      "2020-02-28 17:15:22,854 : INFO : training model with 9 workers on 25 vocabulary and 192 features, using sg=0 hs=0 sample=0.001 negative=5 window=5\n",
      "2020-02-28 17:15:22,862 : INFO : worker thread finished; awaiting finish of 8 more threads\n",
      "2020-02-28 17:15:22,864 : INFO : worker thread finished; awaiting finish of 7 more threads\n",
      "2020-02-28 17:15:22,864 : INFO : worker thread finished; awaiting finish of 6 more threads\n",
      "2020-02-28 17:15:22,865 : INFO : worker thread finished; awaiting finish of 5 more threads\n",
      "2020-02-28 17:15:22,865 : INFO : worker thread finished; awaiting finish of 4 more threads\n",
      "2020-02-28 17:15:22,866 : INFO : worker thread finished; awaiting finish of 3 more threads\n",
      "2020-02-28 17:15:22,866 : INFO : worker thread finished; awaiting finish of 2 more threads\n",
      "2020-02-28 17:15:22,867 : INFO : worker thread finished; awaiting finish of 1 more threads\n",
      "2020-02-28 17:15:22,867 : INFO : worker thread finished; awaiting finish of 0 more threads\n",
      "2020-02-28 17:15:22,868 : INFO : EPOCH - 1 : training on 3175 raw words (165 effective words) took 0.0s, 18473 effective words/s\n",
      "2020-02-28 17:15:22,876 : INFO : worker thread finished; awaiting finish of 8 more threads\n",
      "2020-02-28 17:15:22,877 : INFO : worker thread finished; awaiting finish of 7 more threads\n",
      "2020-02-28 17:15:22,878 : INFO : worker thread finished; awaiting finish of 6 more threads\n",
      "2020-02-28 17:15:22,879 : INFO : worker thread finished; awaiting finish of 5 more threads\n",
      "2020-02-28 17:15:22,879 : INFO : worker thread finished; awaiting finish of 4 more threads\n",
      "2020-02-28 17:15:22,880 : INFO : worker thread finished; awaiting finish of 3 more threads\n",
      "2020-02-28 17:15:22,880 : INFO : worker thread finished; awaiting finish of 2 more threads\n",
      "2020-02-28 17:15:22,881 : INFO : worker thread finished; awaiting finish of 1 more threads\n",
      "2020-02-28 17:15:22,881 : INFO : worker thread finished; awaiting finish of 0 more threads\n",
      "2020-02-28 17:15:22,882 : INFO : EPOCH - 2 : training on 3175 raw words (175 effective words) took 0.0s, 19158 effective words/s\n",
      "2020-02-28 17:15:22,890 : INFO : worker thread finished; awaiting finish of 8 more threads\n",
      "2020-02-28 17:15:22,891 : INFO : worker thread finished; awaiting finish of 7 more threads\n",
      "2020-02-28 17:15:22,892 : INFO : worker thread finished; awaiting finish of 6 more threads\n",
      "2020-02-28 17:15:22,892 : INFO : worker thread finished; awaiting finish of 5 more threads\n",
      "2020-02-28 17:15:22,893 : INFO : worker thread finished; awaiting finish of 4 more threads\n",
      "2020-02-28 17:15:22,894 : INFO : worker thread finished; awaiting finish of 3 more threads\n",
      "2020-02-28 17:15:22,894 : INFO : worker thread finished; awaiting finish of 2 more threads\n",
      "2020-02-28 17:15:22,895 : INFO : worker thread finished; awaiting finish of 1 more threads\n",
      "2020-02-28 17:15:22,895 : INFO : worker thread finished; awaiting finish of 0 more threads\n",
      "2020-02-28 17:15:22,896 : INFO : EPOCH - 3 : training on 3175 raw words (176 effective words) took 0.0s, 18409 effective words/s\n",
      "2020-02-28 17:15:22,904 : INFO : worker thread finished; awaiting finish of 8 more threads\n",
      "2020-02-28 17:15:22,905 : INFO : worker thread finished; awaiting finish of 7 more threads\n",
      "2020-02-28 17:15:22,905 : INFO : worker thread finished; awaiting finish of 6 more threads\n",
      "2020-02-28 17:15:22,906 : INFO : worker thread finished; awaiting finish of 5 more threads\n",
      "2020-02-28 17:15:22,907 : INFO : worker thread finished; awaiting finish of 4 more threads\n",
      "2020-02-28 17:15:22,907 : INFO : worker thread finished; awaiting finish of 3 more threads\n",
      "2020-02-28 17:15:22,908 : INFO : worker thread finished; awaiting finish of 2 more threads\n",
      "2020-02-28 17:15:22,909 : INFO : worker thread finished; awaiting finish of 1 more threads\n",
      "2020-02-28 17:15:22,910 : INFO : worker thread finished; awaiting finish of 0 more threads\n",
      "2020-02-28 17:15:22,910 : INFO : EPOCH - 4 : training on 3175 raw words (190 effective words) took 0.0s, 18598 effective words/s\n",
      "2020-02-28 17:15:22,918 : INFO : worker thread finished; awaiting finish of 8 more threads\n",
      "2020-02-28 17:15:22,920 : INFO : worker thread finished; awaiting finish of 7 more threads\n",
      "2020-02-28 17:15:22,920 : INFO : worker thread finished; awaiting finish of 6 more threads\n",
      "2020-02-28 17:15:22,921 : INFO : worker thread finished; awaiting finish of 5 more threads\n",
      "2020-02-28 17:15:22,921 : INFO : worker thread finished; awaiting finish of 4 more threads\n",
      "2020-02-28 17:15:22,922 : INFO : worker thread finished; awaiting finish of 3 more threads\n",
      "2020-02-28 17:15:22,922 : INFO : worker thread finished; awaiting finish of 2 more threads\n",
      "2020-02-28 17:15:22,923 : INFO : worker thread finished; awaiting finish of 1 more threads\n",
      "2020-02-28 17:15:22,924 : INFO : worker thread finished; awaiting finish of 0 more threads\n",
      "2020-02-28 17:15:22,924 : INFO : EPOCH - 5 : training on 3175 raw words (174 effective words) took 0.0s, 17994 effective words/s\n",
      "2020-02-28 17:15:22,925 : INFO : training on a 15875 raw words (880 effective words) took 0.1s, 12522 effective words/s\n",
      "2020-02-28 17:15:22,926 : WARNING : under 10 jobs per worker: consider setting a smaller `batch_words' for smoother alpha decay\n",
      "2020-02-28 17:15:22,927 : INFO : saving Word2Vec object under train.word2vec, separately None\n",
      "2020-02-28 17:15:22,927 : INFO : not storing attribute vectors_norm\n",
      "2020-02-28 17:15:22,928 : INFO : not storing attribute cum_table\n",
      "2020-02-28 17:15:22,931 : INFO : saved train.word2vec\n"
     ]
    }
   ],
   "source": [
    "from gensim.models import Word2Vec\n",
    "from gensim.models.word2vec import LineSentence\n",
    "import logging\n",
    "\n",
    "# 配置再设置时log的格式\n",
    "logging.basicConfig(format='%(asctime)s : %(levelname)s : %(message)s', level=logging.INFO)\n",
    "\n",
    "def train_word2vec():\n",
    "    corpus = open('./samples/0_test_gensim_1.txt', 'r', encoding='utf-8')  # 'unicode_escape'\n",
    "\n",
    "    model = Word2Vec(LineSentence(corpus), sg=0, size=192, window=5, min_count=5, workers=9)\n",
    "    model.save('train.word2vec')\n",
    "\n",
    "if __name__ == '__main__':\n",
    "    train_word2vec()"
   ]
  },
  {
   "cell_type": "code",
   "execution_count": null,
   "metadata": {},
   "outputs": [],
   "source": [
    "corpus = ['中国', '日本', '韩国', '日本', '垃圾', '日本', '美国', '意大利', '视频',\n",
    "          '中国', '日本', '韩国', '日本', '垃圾', '法国'\n",
    "          '中国', '日本', '韩国', '日本',\n",
    "          '中国', '日本', '韩国', '日本']"
   ]
  },
  {
   "cell_type": "code",
   "execution_count": null,
   "metadata": {},
   "outputs": [],
   "source": []
  }
 ],
 "metadata": {
  "kernelspec": {
   "display_name": "Python 3",
   "language": "python",
   "name": "python3"
  },
  "language_info": {
   "codemirror_mode": {
    "name": "ipython",
    "version": 3
   },
   "file_extension": ".py",
   "mimetype": "text/x-python",
   "name": "python",
   "nbconvert_exporter": "python",
   "pygments_lexer": "ipython3",
   "version": "3.6.6"
  }
 },
 "nbformat": 4,
 "nbformat_minor": 2
}
